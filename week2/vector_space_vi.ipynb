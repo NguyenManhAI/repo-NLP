{
 "cells": [
  {
   "cell_type": "code",
   "execution_count": 12,
   "metadata": {},
   "outputs": [],
   "source": [
    "from gensim.models import Word2Vec, FastText\n",
    "from gensim.models import KeyedVectors\n",
    "import matplotlib.pyplot as plt\n",
    "from sklearn.decomposition import PCA"
   ]
  },
  {
   "cell_type": "code",
   "execution_count": 13,
   "metadata": {},
   "outputs": [],
   "source": [
    "# path data\n",
    "pathdata = 'datatrain.txt'\n",
    "\n",
    "def read_data(path):\n",
    "    traindata = []\n",
    "    sents = open(pathdata, 'r').readlines()\n",
    "    for sent in sents:\n",
    "        traindata.append(sent.split())\n",
    "    return traindata\n",
    "train_data = read_data(pathdata)"
   ]
  },
  {
   "cell_type": "code",
   "execution_count": 14,
   "metadata": {},
   "outputs": [],
   "source": [
    "# model_word2vec = Word2Vec(train_data, vector_size=150, window=10, min_count=2, workers=4, sg=0)\n",
    "# model_word2vec.wv.save(\"model/word2vec_skipgram.model\")"
   ]
  },
  {
   "cell_type": "code",
   "execution_count": 15,
   "metadata": {},
   "outputs": [],
   "source": [
    "# model_fasttext = FastText(vector_size=150, window=10, min_count=2, workers=4, sg=1)\n",
    "# model_fasttext.build_vocab(train_data)\n",
    "# model_fasttext.train(train_data, total_examples=model_fasttext.corpus_count, epochs=20)\n",
    "\n",
    "# model_fasttext.wv.save(\"model/fasttext_gensim.model\")\n"
   ]
  },
  {
   "cell_type": "code",
   "execution_count": 23,
   "metadata": {},
   "outputs": [
    {
     "name": "stdout",
     "output_type": "stream",
     "text": [
      "con_gái\n",
      "con_trai\n",
      "cha\n",
      "chị\n",
      "em_gái\n",
      "em\n",
      "anh_trai\n",
      "cháu\n",
      "em_trai\n",
      "công_chúa\n"
     ]
    },
    {
     "data": {
      "text/plain": [
       "'con gái,con trai,cha,chị,em gái,em,anh trai,cháu,em trai,công chúa'"
      ]
     },
     "execution_count": 23,
     "metadata": {},
     "output_type": "execute_result"
    }
   ],
   "source": [
    "# demo\n",
    "model = KeyedVectors.load('model/word2vec_skipgram.model')\n",
    "result = []\n",
    "for word in model.most_similar(u\"vợ\"):\n",
    "    result.append(' '.join(word[0].split('_')))\n",
    "    print(word[0])\n",
    "','.join(result)"
   ]
  },
  {
   "cell_type": "code",
   "execution_count": 29,
   "metadata": {},
   "outputs": [
    {
     "data": {
      "image/png": "[encoded data removed]",
      "text/plain": [
       "<Figure size 640x480 with 1 Axes>"
      ]
     },
     "metadata": {},
     "output_type": "display_data"
    }
   ],
   "source": [
    "# import matplotlib.pyplot as plt\n",
    "# from sklearn.decomposition import PCA\n",
    "\n",
    "model = KeyedVectors.load('model/word2vec_skipgram.model')\n",
    "# model = KeyedVectors.load('../model/fasttext_gensim.model')\n",
    "\n",
    "pathfile = './words'\n",
    "with open(pathfile, 'r') as f:\n",
    "    words = f.readlines()\n",
    "    words = [word.strip() for word in words]\n",
    "\n",
    "words_np = []\n",
    "words_label = []\n",
    "\n",
    "for word in model.key_to_index.keys():\n",
    "    if word in words:\n",
    "        words_np.append(model[word])\n",
    "        words_label.append(word)\n",
    "\n",
    "pca = PCA(n_components=2)\n",
    "pca.fit(words_np)\n",
    "reduced = pca.transform(words_np)\n",
    "\n",
    "\n",
    "def visualize():\n",
    "    fig, ax = plt.subplots()\n",
    "\n",
    "    for index, vec in enumerate(reduced):\n",
    "        x, y = vec[0], vec[1]\n",
    "\n",
    "        ax.scatter(x, y)\n",
    "        ax.annotate(words_label[index], xy=(x, y))\n",
    "\n",
    "    plt.show()\n",
    "    return\n",
    "\n",
    "\n",
    "\n",
    "visualize()\n"
   ]
  }
 ],
 "metadata": {
  "kernelspec": {
   "display_name": "manhtms1",
   "language": "python",
   "name": "python3"
  },
  "language_info": {
   "codemirror_mode": {
    "name": "ipython",
    "version": 3
   },
   "file_extension": ".py",
   "mimetype": "text/x-python",
   "name": "python",
   "nbconvert_exporter": "python",
   "pygments_lexer": "ipython3",
   "version": "3.10.10"
  }
 },
 "nbformat": 4,
 "nbformat_minor": 2
}
